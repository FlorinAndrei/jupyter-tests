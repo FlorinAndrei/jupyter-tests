{
 "cells": [
  {
   "cell_type": "code",
   "execution_count": 1,
   "metadata": {},
   "outputs": [],
   "source": [
    "import requests\n",
    "import requests_cache\n",
    "import pandas as pd\n",
    "import ipywidgets"
   ]
  },
  {
   "cell_type": "code",
   "execution_count": 2,
   "metadata": {},
   "outputs": [],
   "source": [
    "requests_cache.install_cache('sunshine')\n",
    "\n",
    "r = requests.get('https://query.data.world/s/grfxn7os5xwnxmr2n43tagk2vnroie')\n",
    "open('sunshine.xslx', 'wb').write(r.content)\n",
    "\n",
    "df = pd.read_excel('sunshine.xslx')\n",
    "\n",
    "continents = df['Continent'].unique().tolist()\n",
    "continents = ['ALL'] + continents\n",
    "countries = df['Country'].unique().tolist()\n",
    "countries = ['ALL'] + countries\n",
    "continents\n",
    "sorts = ['top', 'bottom']"
   ]
  },
  {
   "cell_type": "code",
   "execution_count": 3,
   "metadata": {},
   "outputs": [],
   "source": [
    "def plotSunshine(continent, top, sort):\n",
    "    if continent == 'ALL':\n",
    "        show = df.copy(deep=True)\n",
    "    else:\n",
    "        show = df[df['Continent'] == continent].copy(deep=True)\n",
    "    show['City'] = show['City'] + ', ' + show['Country']\n",
    "    if sort == 'top':\n",
    "        s = False\n",
    "    else:\n",
    "        s = True\n",
    "    show.sort_values(['Year'], ascending=s).head(n=top).plot(kind='barh', x='City', y='Year', figsize=(16,9), title='hours of sunshine per year')"
   ]
  },
  {
   "cell_type": "code",
   "execution_count": 4,
   "metadata": {},
   "outputs": [
    {
     "data": {
      "application/vnd.jupyter.widget-view+json": {
       "model_id": "a1c2e1c052a846268bfb18f0d0ca7633",
       "version_major": 2,
       "version_minor": 0
      },
      "text/plain": [
       "interactive(children=(Dropdown(description='continent', options=('ALL', 'Africa', 'Asia', 'Europe', 'North Ame…"
      ]
     },
     "metadata": {},
     "output_type": "display_data"
    },
    {
     "data": {
      "text/plain": [
       "<function __main__.plotSunshine(continent, top, sort)>"
      ]
     },
     "execution_count": 4,
     "metadata": {},
     "output_type": "execute_result"
    }
   ],
   "source": [
    "ipywidgets.interact(plotSunshine, continent=continents, top=(1, 50, 1), sort=sorts)"
   ]
  },
  {
   "cell_type": "code",
   "execution_count": null,
   "metadata": {},
   "outputs": [],
   "source": []
  }
 ],
 "metadata": {
  "kernelspec": {
   "display_name": "Python 3",
   "language": "python",
   "name": "python3"
  },
  "language_info": {
   "codemirror_mode": {
    "name": "ipython",
    "version": 3
   },
   "file_extension": ".py",
   "mimetype": "text/x-python",
   "name": "python",
   "nbconvert_exporter": "python",
   "pygments_lexer": "ipython3",
   "version": "3.7.6"
  }
 },
 "nbformat": 4,
 "nbformat_minor": 2
}
